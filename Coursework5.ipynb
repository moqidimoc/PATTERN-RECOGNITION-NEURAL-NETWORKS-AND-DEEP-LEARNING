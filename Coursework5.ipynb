{
 "cells": [
  {
   "cell_type": "code",
   "execution_count": 1,
   "id": "thousand-student",
   "metadata": {},
   "outputs": [],
   "source": [
    "from sklearn.model_selection import train_test_split\n",
    "from keras.utils import to_categorical\n",
    "from keras.datasets import mnist\n",
    "from keras.models import Sequential\n",
    "from keras.layers import Conv2D, MaxPool2D, AveragePooling2D, Dense, Flatten, Dropout, BatchNormalization\n",
    "from emnist import extract_training_samples\n",
    "from emnist import extract_test_samples\n",
    "\n",
    "def data(x_train, y_train, x_test, y_test):\n",
    "    # train/validation split\n",
    "    x_train, x_val, y_train, y_val = train_test_split(x_train, y_train, test_size=0.2, random_state=420)\n",
    "    \n",
    "    # Normalisation/Standarization\n",
    "    x_train = x_train.astype('float32')\n",
    "    x_val = x_val.astype('float32')\n",
    "    x_test = x_test.astype('float32')\n",
    "    x_train /= 255\n",
    "    x_val /= 255\n",
    "    x_test /= 255\n",
    "    \n",
    "    # Converting labels in one-hot encoded values\n",
    "    y_train = to_categorical(y_train, 10)\n",
    "    y_val = to_categorical(y_val, 10)\n",
    "    \n",
    "    # Reshaping the input data so it can be ingested by a convolutional layer\n",
    "    x_train = x_train.reshape(x_train.shape[0], 28, 28, 1)\n",
    "    x_val = x_val.reshape(x_val.shape[0], 28, 28, 1)\n",
    "    x_test = x_test.reshape(x_test.shape[0], 28, 28, 1)\n",
    "    \n",
    "    # return all the data sets\n",
    "    return x_train, x_val, x_test, y_train, y_val, y_test"
   ]
  },
  {
   "cell_type": "code",
   "execution_count": 2,
   "id": "therapeutic-yacht",
   "metadata": {},
   "outputs": [],
   "source": [
    "images, labels = extract_training_samples('digits')\n",
    "images_test, labels_test = extract_test_samples('digits')\n",
    "\n",
    "x2_train, x2_val, x2_test, y2_train, y2_val, y2_test = data(images, labels, images_test, labels_test)"
   ]
  },
  {
   "cell_type": "code",
   "execution_count": 5,
   "id": "successful-catering",
   "metadata": {},
   "outputs": [],
   "source": [
    "net6 = Sequential(name='LeNetv6')\n",
    "net6.add(Conv2D(filters=12, kernel_size=(5,5), activation='relu', input_shape=(28,28,1), padding=\"same\", name='1.Conv1'))\n",
    "net6.add(BatchNormalization())\n",
    "net6.add(AveragePooling2D(pool_size=(2,2), name='2.MaxPool1'))\n",
    "net6.add(Conv2D(24, (5,5), activation='relu',strides=(2,2), name='3.Conv2'))\n",
    "net6.add(BatchNormalization())\n",
    "net6.add(AveragePooling2D(pool_size=(2,2), name='4.MaxPool2'))\n",
    "net6.add(Flatten())\n",
    "net6.add(Dense(256, activation='relu', name='5.FullyConnected1'))\n",
    "net6.add(BatchNormalization())\n",
    "net6.add(Dropout(rate=0.3)) # drop-out so that some node's activities are fixed to 0 and the network generalises better\n",
    "net6.add(Dense(128, activation='tanh', name='6.FullyConnected2'))\n",
    "net6.add(Dropout(rate=0.35)) # drop-out so that some node's activities are fixed to 0 and the network generalises better\n",
    "net6.add(Dense(10, activation='softmax', name='7.FullyConnected3'))"
   ]
  },
  {
   "cell_type": "code",
   "execution_count": 6,
   "id": "limited-ivory",
   "metadata": {},
   "outputs": [
    {
     "name": "stdout",
     "output_type": "stream",
     "text": [
      "Epoch 1/10\n",
      "750/750 [==============================] - 87s 116ms/step - loss: 0.1201 - val_loss: 0.0435\n",
      "Epoch 2/10\n",
      "750/750 [==============================] - 84s 112ms/step - loss: 0.0408 - val_loss: 0.0346\n",
      "Epoch 3/10\n",
      "750/750 [==============================] - 82s 110ms/step - loss: 0.0332 - val_loss: 0.0304\n",
      "Epoch 4/10\n",
      "750/750 [==============================] - 90s 120ms/step - loss: 0.0286 - val_loss: 0.0263\n",
      "Epoch 5/10\n",
      "750/750 [==============================] - 93s 125ms/step - loss: 0.0255 - val_loss: 0.0303\n",
      "Epoch 6/10\n",
      "750/750 [==============================] - 90s 120ms/step - loss: 0.0238 - val_loss: 0.0271\n",
      "Epoch 7/10\n",
      "750/750 [==============================] - 91s 121ms/step - loss: 0.0218 - val_loss: 0.0282\n",
      "Epoch 8/10\n",
      "750/750 [==============================] - 87s 116ms/step - loss: 0.0207 - val_loss: 0.0283\n",
      "Epoch 9/10\n",
      "750/750 [==============================] - 93s 124ms/step - loss: 0.0189 - val_loss: 0.0252\n",
      "Epoch 10/10\n",
      "750/750 [==============================] - 91s 121ms/step - loss: 0.0176 - val_loss: 0.0240\n"
     ]
    }
   ],
   "source": [
    "net6.compile(loss='categorical_crossentropy', optimizer='adam')\n",
    "history = net6.fit(x2_train, y2_train, \n",
    "                  validation_data=(x2_val, y2_val), \n",
    "                  epochs=10, \n",
    "                  batch_size=256)"
   ]
  },
  {
   "cell_type": "code",
   "execution_count": 8,
   "id": "about-hopkins",
   "metadata": {},
   "outputs": [
    {
     "data": {
      "text/plain": [
       "<matplotlib.legend.Legend at 0x14ebcfe5908>"
      ]
     },
     "execution_count": 8,
     "metadata": {},
     "output_type": "execute_result"
    },
    {
     "data": {
      "image/png": "[encoded data removed]",
      "text/plain": [
       "<Figure size 432x288 with 1 Axes>"
      ]
     },
     "metadata": {
      "needs_background": "light"
     },
     "output_type": "display_data"
    }
   ],
   "source": [
    "import matplotlib.pyplot as plt\n",
    "plt.figure()\n",
    "plt.plot(history.history['loss'], label='training loss')\n",
    "plt.plot(history.history['val_loss'], label='validation loss')\n",
    "plt.xlabel('epochs')\n",
    "plt.ylabel('loss')\n",
    "plt.legend()"
   ]
  },
  {
   "cell_type": "code",
   "execution_count": 11,
   "id": "furnished-curve",
   "metadata": {},
   "outputs": [
    {
     "name": "stdout",
     "output_type": "stream",
     "text": [
      "Percentage correctly classified MNIST=  99.375\n"
     ]
    }
   ],
   "source": [
    "import numpy as np\n",
    "outputs=net6.predict(x2_test)\n",
    "labels_predicted=np.argmax(outputs, axis=1)\n",
    "correct_classified=sum(labels_predicted==y2_test)\n",
    "print('Percentage correctly classified MNIST= ',100*correct_classified/y2_test.size)"
   ]
  },
  {
   "cell_type": "code",
   "execution_count": 12,
   "id": "facial-contribution",
   "metadata": {},
   "outputs": [],
   "source": [
    "net6.save(\"Manuel_Ortiz_2.h5\")"
   ]
  }
 ],
 "metadata": {
  "kernelspec": {
   "display_name": "Python 3",
   "language": "python",
   "name": "python3"
  },
  "language_info": {
   "codemirror_mode": {
    "name": "ipython",
    "version": 3
   },
   "file_extension": ".py",
   "mimetype": "text/x-python",
   "name": "python",
   "nbconvert_exporter": "python",
   "pygments_lexer": "ipython3",
   "version": "3.7.6"
  }
 },
 "nbformat": 4,
 "nbformat_minor": 5
}
